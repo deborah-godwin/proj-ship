{
 "cells": [
  {
   "cell_type": "markdown",
   "metadata": {},
   "source": [
    "# Ship's Instruction Manual\n"
   ]
  },
  {
   "attachments": {},
   "cell_type": "markdown",
   "metadata": {},
   "source": [
    "## Oxygen levels"
   ]
  },
  {
   "cell_type": "code",
   "execution_count": 1,
   "metadata": {},
   "outputs": [
    {
     "data": {
      "image/png": "[encoded data removed]",
      "text/plain": [
       "<Figure size 640x480 with 1 Axes>"
      ]
     },
     "metadata": {},
     "output_type": "display_data"
    }
   ],
   "source": [
    "# Displaying ten minutes of oxygen levels in ship\n",
    "import numpy as np\n",
    "import matplotlib.pyplot as plt\n",
    "data = np.random.default_rng(12345)\n",
    "oxy_nums = data.integers(low=0, high=10, size=10)\n",
    "\n",
    "plt.bar(range(len(oxy_nums)), oxy_nums)\n",
    "plt.show()"
   ]
  },
  {
   "attachments": {},
   "cell_type": "markdown",
   "metadata": {},
   "source": [
    "## Ship's velocity"
   ]
  },
  {
   "cell_type": "code",
   "execution_count": 2,
   "metadata": {},
   "outputs": [
    {
     "name": "stdout",
     "output_type": "stream",
     "text": [
      "Time to reach desired velocity =  6.122448979591836\n"
     ]
    }
   ],
   "source": [
    "# Seconds needed to get from 0 to 60m/s, given the ship's acceleration in m/s\n",
    "endVelocity = 60\n",
    "startVelocity = 0\n",
    "acceleration = 9.8\n",
    "\n",
    "time = (endVelocity - startVelocity) / acceleration\n",
    "print(\"Time to reach desired velocity = \", time)"
   ]
  },
  {
   "attachments": {},
   "cell_type": "markdown",
   "metadata": {},
   "source": [
    "## Date"
   ]
  },
  {
   "cell_type": "code",
   "execution_count": 15,
   "metadata": {},
   "outputs": [
    {
     "name": "stdout",
     "output_type": "stream",
     "text": [
      "2022-11-09\n"
     ]
    }
   ],
   "source": [
    "from datetime import date\n",
    "print(date.today())"
   ]
  },
  {
   "cell_type": "code",
   "execution_count": 10,
   "metadata": {},
   "outputs": [
    {
     "name": "stdout",
     "output_type": "stream",
     "text": [
      "11 parsecs is 35.86 lightyears\n"
     ]
    }
   ],
   "source": [
    "# Calculating lightyears\n",
    "parsecs = 11\n",
    "lightyears = parsecs * 3.26\n",
    "\n",
    "print(str(parsecs) + \" parsecs is \" + str(lightyears) + \" lightyears\")"
   ]
  },
  {
   "cell_type": "code",
   "execution_count": null,
   "metadata": {},
   "outputs": [],
   "source": [
    "# Program that requires user input to calculate lightyears\n",
    "parsecs_input = input(\"Input number of parsecs: \")\n",
    "parsecs = int(parsecs_input)\n",
    "lightyears = 3.26156 * parsecs\n",
    "\n",
    "print(parsecs_input + \" parsecs is \" + str(lightyears) + \" lightyears\")"
   ]
  },
  {
   "attachments": {},
   "cell_type": "markdown",
   "metadata": {},
   "source": [
    "## Examine an object's size"
   ]
  },
  {
   "cell_type": "code",
   "execution_count": 1,
   "metadata": {},
   "outputs": [
    {
     "name": "stdout",
     "output_type": "stream",
     "text": [
      "We need to keep an eye on this object\n"
     ]
    }
   ],
   "source": [
    "# Examine the size of an object\n",
    "object_size = 10\n",
    "if object_size > 5:\n",
    "    print(\"We need to keep an eye on this object\")\n",
    "else: \n",
    "    print(\"Object poses no threat\")"
   ]
  },
  {
   "attachments": {},
   "cell_type": "markdown",
   "metadata": {},
   "source": [
    "## Possible evasive maneuvers"
   ]
  },
  {
   "cell_type": "code",
   "execution_count": 3,
   "metadata": {},
   "outputs": [
    {
     "name": "stdout",
     "output_type": "stream",
     "text": [
      "Object poses no threat\n"
     ]
    }
   ],
   "source": [
    "# Creating variables\n",
    "object_size = 10\n",
    "proximity = 9000\n",
    "\n",
    "# Making conditional statements to determine threats\n",
    "if object_size > 5 and proximity < 1000:\n",
    "    print (\"Evasive maneuvers required\")\n",
    "else:\n",
    "    print (\"Object poses no threat\")"
   ]
  },
  {
   "attachments": {},
   "cell_type": "markdown",
   "metadata": {},
   "source": [
    "## Interesting facts about the Moon"
   ]
  },
  {
   "cell_type": "code",
   "execution_count": 5,
   "metadata": {},
   "outputs": [
    {
     "name": "stdout",
     "output_type": "stream",
     "text": [
      "Interesting facts about the Moon. The Moon is Earth's only satellite. There are several interesting facts about the Moon and how it affects life here on Earth. \n",
      "On average, the Moon moves 4cm away from the Earth every year. This yearly drift is not significant enough to cause immediate effects on Earth. The highest daylight temperature of the Moon is 127 C.\n"
     ]
    }
   ],
   "source": [
    "text = \"\"\"Interesting facts about the Moon. The Moon is Earth's only satellite. There are several interesting facts about the Moon and how it affects life here on Earth. \n",
    "On average, the Moon moves 4cm away from the Earth every year. This yearly drift is not significant enough to cause immediate effects on Earth. The highest daylight temperature of the Moon is 127 C.\"\"\"\n",
    "\n",
    "print(text)"
   ]
  },
  {
   "cell_type": "code",
   "execution_count": 6,
   "metadata": {},
   "outputs": [
    {
     "name": "stdout",
     "output_type": "stream",
     "text": [
      "['Interesting facts about the Moon', \"The Moon is Earth's only satellite\", 'There are several interesting facts about the Moon and how it affects life here on Earth', '\\nOn average, the Moon moves 4cm away from the Earth every year', 'This yearly drift is not significant enough to cause immediate effects on Earth', 'The highest daylight temperature of the Moon is 127 C.']\n"
     ]
    }
   ],
   "source": [
    "# Seperate paragraphs into sentences\n",
    "sentences = text.split(\". \")\n",
    "print(sentences)"
   ]
  },
  {
   "cell_type": "code",
   "execution_count": 8,
   "metadata": {},
   "outputs": [
    {
     "name": "stdout",
     "output_type": "stream",
     "text": [
      "The highest daylight temperature of the Moon is 127 C.\n"
     ]
    }
   ],
   "source": [
    "# Find temperature using loop\n",
    "for sentence in sentences:\n",
    "    if \"temperature\" in sentence:\n",
    "        print(sentence)"
   ]
  },
  {
   "attachments": {},
   "cell_type": "markdown",
   "metadata": {},
   "source": [
    "## Facts about gravity on Moons"
   ]
  },
  {
   "cell_type": "code",
   "execution_count": null,
   "metadata": {},
   "outputs": [],
   "source": [
    "# Creating variables\n",
    "name = \"Ganymede\"\n",
    "planet = \"Mars\"\n",
    "gravity = \"1.43\"\n",
    "\n",
    "# Creating template\n",
    "template = \"\"\"Gravity Facts about {name}\n",
    "----------------------------------------\n",
    "\n",
    "Planet Name = {planet}\n",
    "Gravity on {name} = {gravity} m/s2\"\"\"\n",
    "\n",
    "# Print using template and format\n",
    "print(template.format(name=name, planet=planet, gravity=gravity))"
   ]
  },
  {
   "attachments": {},
   "cell_type": "markdown",
   "metadata": {},
   "source": [
    "## Distance between planets"
   ]
  },
  {
   "cell_type": "code",
   "execution_count": 10,
   "metadata": {},
   "outputs": [],
   "source": [
    "# Creating variables\n",
    "first_planet = 149597870 \n",
    "second_planet = 778547200"
   ]
  },
  {
   "cell_type": "code",
   "execution_count": 11,
   "metadata": {},
   "outputs": [
    {
     "name": "stdout",
     "output_type": "stream",
     "text": [
      "628949330\n",
      "390810995.0389724\n"
     ]
    }
   ],
   "source": [
    "# Calculating distance in km\n",
    "distance_km = second_planet - first_planet\n",
    "print(distance_km)\n",
    "\n",
    "# Converting distance_km to distance_mi\n",
    "distance_mi = distance_km / 1.609344\n",
    "print(distance_mi)"
   ]
  },
  {
   "attachments": {},
   "cell_type": "markdown",
   "metadata": {},
   "source": [
    "### Program to calculate the distance between two planets based on user input"
   ]
  },
  {
   "cell_type": "code",
   "execution_count": 12,
   "metadata": {},
   "outputs": [],
   "source": [
    "# User input\n",
    "first_planet_input = input(\"Enter the distance from the sun for the first planet in KM\")\n",
    "second_planet_input = input(\"Enter the distance from the sun for the second planet in KM\")"
   ]
  },
  {
   "cell_type": "code",
   "execution_count": 13,
   "metadata": {},
   "outputs": [],
   "source": [
    "# Convert to number\n",
    "first_planet = int(first_planet_input)\n",
    "second_planet = int(second_planet_input)"
   ]
  },
  {
   "cell_type": "code",
   "execution_count": 14,
   "metadata": {},
   "outputs": [
    {
     "name": "stdout",
     "output_type": "stream",
     "text": [
      "1375600000\n"
     ]
    }
   ],
   "source": [
    "# Perform calculation and convert to absolute value\n",
    "distance_km = second_planet - first_planet\n",
    "print(abs(distance_km))"
   ]
  },
  {
   "attachments": {},
   "cell_type": "markdown",
   "metadata": {},
   "source": [
    "## Planets"
   ]
  },
  {
   "cell_type": "code",
   "execution_count": 17,
   "metadata": {},
   "outputs": [
    {
     "name": "stdout",
     "output_type": "stream",
     "text": [
      "['Mercury', 'Venus', 'Earth', 'Mars', 'Jupiter', 'Saturn', 'Uranus', 'Neptune']\n"
     ]
    }
   ],
   "source": [
    "# Planet names\n",
    "planets = [\"Mercury\", \"Venus\", \"Earth\", \"Mars\", \"Jupiter\", \"Saturn\", \"Uranus\", \"Neptune\"]\n",
    "print(planets)"
   ]
  },
  {
   "cell_type": "code",
   "execution_count": 18,
   "metadata": {},
   "outputs": [
    {
     "name": "stdout",
     "output_type": "stream",
     "text": [
      "There are 8 planets\n"
     ]
    }
   ],
   "source": [
    "# Number of planets\n",
    "print(\"There are\", len(planets), \"planets\")"
   ]
  },
  {
   "cell_type": "code",
   "execution_count": 19,
   "metadata": {},
   "outputs": [
    {
     "name": "stdout",
     "output_type": "stream",
     "text": [
      "Actually, there are 9 planets\n",
      "Pluto is the last planet\n"
     ]
    }
   ],
   "source": [
    "# Adding pluto to the list\n",
    "planets.append(\"Pluto\")\n",
    "\n",
    "print(\"Actually, there are\", len(planets), \"planets\")\n",
    "\n",
    "print(planets[-1], \"is the last planet\")"
   ]
  },
  {
   "attachments": {},
   "cell_type": "markdown",
   "metadata": {},
   "source": [
    "## Program for user to determine distance of planet from the sun"
   ]
  },
  {
   "cell_type": "code",
   "execution_count": 20,
   "metadata": {},
   "outputs": [],
   "source": [
    "# Planets\n",
    "planets = ['Mercury', 'Venus', 'Earth', 'Mars', 'Jupiter', 'Saturn', 'Uranus', 'Neptune']"
   ]
  },
  {
   "cell_type": "code",
   "execution_count": 21,
   "metadata": {},
   "outputs": [],
   "source": [
    "# Input planet\n",
    "user_planet = input('please enter the name of the planet (with a capital letter to start)')"
   ]
  },
  {
   "cell_type": "code",
   "execution_count": 22,
   "metadata": {},
   "outputs": [],
   "source": [
    "# Find location of inputed planet using index\n",
    "planet_index = planets.index(user_planet)"
   ]
  },
  {
   "cell_type": "code",
   "execution_count": 23,
   "metadata": {},
   "outputs": [
    {
     "name": "stdout",
     "output_type": "stream",
     "text": [
      "Here are the planets closer than Venus\n",
      "['Mercury']\n"
     ]
    }
   ],
   "source": [
    "# Planets closer to the sun than inputed planet\n",
    "print('Here are the planets closer than ' + user_planet)\n",
    "print(planets[0:planet_index])"
   ]
  },
  {
   "cell_type": "code",
   "execution_count": 25,
   "metadata": {},
   "outputs": [
    {
     "name": "stdout",
     "output_type": "stream",
     "text": [
      "Here are the planets further than Venus\n",
      "['Earth', 'Mars', 'Jupiter', 'Saturn', 'Uranus', 'Neptune']\n"
     ]
    }
   ],
   "source": [
    "# Planets farther from the sun than inputed planet\n",
    "print('Here are the planets further than ' + user_planet)\n",
    "print(planets[planet_index + 1:])"
   ]
  },
  {
   "attachments": {},
   "cell_type": "markdown",
   "metadata": {},
   "source": [
    "##  Creating an application that prompts a user to enter a list of planets"
   ]
  },
  {
   "cell_type": "code",
   "execution_count": 3,
   "metadata": {},
   "outputs": [],
   "source": [
    "# Variables\n",
    "new_planet = ''\n",
    "planets = []"
   ]
  },
  {
   "cell_type": "code",
   "execution_count": 4,
   "metadata": {},
   "outputs": [
    {
     "name": "stdout",
     "output_type": "stream",
     "text": [
      "['Saturn', 'Uranus', 'Neptune', 'Jupiter', 'Mars']\n"
     ]
    }
   ],
   "source": [
    "# Creating the list of planets using while loop\n",
    "while new_planet.lower() != 'done':\n",
    "    if new_planet:\n",
    "        planets.append(new_planet)\n",
    "    new_planet = input('Enter a new planet, or done if done')\n",
    "\n",
    "print(planets)"
   ]
  },
  {
   "cell_type": "code",
   "execution_count": 5,
   "metadata": {},
   "outputs": [
    {
     "name": "stdout",
     "output_type": "stream",
     "text": [
      "Saturn\n",
      "Uranus\n",
      "Neptune\n",
      "Jupiter\n",
      "Mars\n"
     ]
    }
   ],
   "source": [
    "# Displaying the list of planets user entered using a for loop\n",
    "for planet in planets:\n",
    "    print(planet)"
   ]
  },
  {
   "attachments": {},
   "cell_type": "markdown",
   "metadata": {},
   "source": [
    "## Managing Planet Data"
   ]
  },
  {
   "cell_type": "code",
   "execution_count": 1,
   "metadata": {},
   "outputs": [],
   "source": [
    "# Storing planet data in a dictionary\n",
    "planet = {'name': 'Mars', 'moons': 2}"
   ]
  },
  {
   "cell_type": "code",
   "execution_count": 3,
   "metadata": {},
   "outputs": [
    {
     "name": "stdout",
     "output_type": "stream",
     "text": [
      "Mars has 2 moon(s)\n"
     ]
    }
   ],
   "source": [
    "# Display planet data\n",
    "print(f'{planet[\"name\"]} has {planet[\"moons\"]} moon(s)')"
   ]
  },
  {
   "cell_type": "code",
   "execution_count": 4,
   "metadata": {},
   "outputs": [
    {
     "name": "stdout",
     "output_type": "stream",
     "text": [
      "Mars has a polar circumference of 6752\n"
     ]
    }
   ],
   "source": [
    "# Adding circumference in km\n",
    "planet['circumference (km)'] = {'polar': 6752, 'equatorial': 6792}\n",
    "\n",
    "print(f'{planet[\"name\"]} has a polar circumference of {planet[\"circumference (km)\"][\"polar\"]}')"
   ]
  },
  {
   "cell_type": "code",
   "execution_count": 5,
   "metadata": {},
   "outputs": [],
   "source": [
    "# Calculating values in a dictionary\n",
    "planet_moons = {'mercury': 0,\n",
    "'venus': 0,\n",
    "'earth': 1,\n",
    "'mars': 2,\n",
    "'jupiter': 79,\n",
    "'saturn': 82,\n",
    "'uranus': 27,\n",
    "'neptune': 14,\n",
    "'pluto': 5,\n",
    "'haumea': 2,\n",
    "'makemake': 1,\n",
    "'eris': 1}"
   ]
  },
  {
   "cell_type": "code",
   "execution_count": 6,
   "metadata": {},
   "outputs": [],
   "source": [
    "# Retrieving the list of moons and number of planets\n",
    "moons = planet_moons.values()\n",
    "total_planets = len(planet_moons.keys())"
   ]
  },
  {
   "cell_type": "code",
   "execution_count": 7,
   "metadata": {},
   "outputs": [
    {
     "name": "stdout",
     "output_type": "stream",
     "text": [
      "Each planet has an average of 17.833333333333332 moons\n"
     ]
    }
   ],
   "source": [
    "# Determining the average number of moons\n",
    "total_moons = 0\n",
    "for moon in moons:\n",
    "    total_moons = total_moons + moon\n",
    "\n",
    "average = total_moons / total_planets\n",
    "\n",
    "print(f'Each planet has an average of {average} moons')"
   ]
  },
  {
   "attachments": {},
   "cell_type": "markdown",
   "metadata": {},
   "source": [
    "## Creating an app to display the amount of fuel in spaceship tank"
   ]
  },
  {
   "cell_type": "code",
   "execution_count": 5,
   "metadata": {},
   "outputs": [],
   "source": [
    "# Create a report generation function\n",
    "def generate_report(main_tank, external_tank, hydrogen_tank):\n",
    "    output = f\"\"\"Fuel Report:\n",
    "    Main tank: {main_tank}\n",
    "    External tank: {external_tank}\n",
    "    Hydrogen tank: {hydrogen_tank}\n",
    "    \"\"\"\n",
    "    print(output)"
   ]
  },
  {
   "cell_type": "code",
   "execution_count": 8,
   "metadata": {},
   "outputs": [
    {
     "name": "stdout",
     "output_type": "stream",
     "text": [
      "Fuel Report:\n",
      "    Main tank: 80\n",
      "    External tank: 70\n",
      "    Hydrogen tank: 75\n",
      "    \n"
     ]
    }
   ],
   "source": [
    "# Run the function using fuel levels in each tank\n",
    "generate_report(80, 70, 75)"
   ]
  },
  {
   "cell_type": "code",
   "execution_count": 1,
   "metadata": {},
   "outputs": [],
   "source": [
    "# Updating the fuel report function\n",
    "def fuel_report(**fuel_tanks):\n",
    "    for name, value in fuel_tanks.items():\n",
    "        print(f'{name}: {value}')"
   ]
  },
  {
   "cell_type": "code",
   "execution_count": 2,
   "metadata": {},
   "outputs": [
    {
     "name": "stdout",
     "output_type": "stream",
     "text": [
      "main: 50\n",
      "external: 100\n",
      "emergency: 60\n"
     ]
    }
   ],
   "source": [
    "# Calling the function using the updated values\n",
    "fuel_report(main=50, external=100, emergency=60)"
   ]
  },
  {
   "attachments": {},
   "cell_type": "markdown",
   "metadata": {},
   "source": [
    "##  Creating a program which will read configuration information from another source"
   ]
  },
  {
   "cell_type": "code",
   "execution_count": 3,
   "metadata": {},
   "outputs": [],
   "source": [
    "# creating a function which opens and reads the contents of the configuration file\n",
    "loaded_config = \"\"\"# Rocket Ship Configuration File!\n",
    "fuel_tanks=4\n",
    "oxygen_tanks=3\n",
    "initial_propulsion_level=84\n",
    "$ End of file\"\"\""
   ]
  },
  {
   "cell_type": "code",
   "execution_count": 4,
   "metadata": {},
   "outputs": [
    {
     "name": "stdout",
     "output_type": "stream",
     "text": [
      "Unable to parse # Rocket Ship Configuration File!\n",
      "Unable to parse $ End of file\n",
      "{'fuel_tanks': '4', 'oxygen_tanks': '3', 'initial_propulsion_level': '84'}\n"
     ]
    }
   ],
   "source": [
    "# Parsing the configuration information\n",
    "parsed_config ={}\n",
    "for line in loaded_config.split('\\n'):\n",
    "    try:\n",
    "        key, value = line.split('=')\n",
    "        parsed_config[key] = value\n",
    "    except ValueError:\n",
    "        print(f'Unable to parse {line}')\n",
    "print(parsed_config)"
   ]
  }
 ],
 "metadata": {
  "kernelspec": {
   "display_name": "Python 3.10.8 64-bit",
   "language": "python",
   "name": "python3"
  },
  "language_info": {
   "codemirror_mode": {
    "name": "ipython",
    "version": 3
   },
   "file_extension": ".py",
   "mimetype": "text/x-python",
   "name": "python",
   "nbconvert_exporter": "python",
   "pygments_lexer": "ipython3",
   "version": "3.10.8"
  },
  "orig_nbformat": 4,
  "vscode": {
   "interpreter": {
    "hash": "cfab554f34f060d07a8b785d4ceb8f25de332c9f0f5aa4cc32c5cdd69325758f"
   }
  }
 },
 "nbformat": 4,
 "nbformat_minor": 2
}
